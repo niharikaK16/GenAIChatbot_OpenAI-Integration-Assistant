{
 "cells": [
  {
   "cell_type": "code",
   "execution_count": 19,
   "id": "32ce5459-fc9a-49e4-bec4-1658195237e9",
   "metadata": {},
   "outputs": [],
   "source": [
    "import streamlit as st"
   ]
  },
  {
   "cell_type": "code",
   "execution_count": 20,
   "id": "23f2fc7b-6ec1-4e82-a214-18838637b8fe",
   "metadata": {},
   "outputs": [],
   "source": [
    "#Enter Your Secret Key\n",
    "OPENAI_API_KEY = \"******\""
   ]
  },
  {
   "cell_type": "code",
   "execution_count": 21,
   "id": "49a8a128-a27d-440f-9382-0bdcab4a9181",
   "metadata": {},
   "outputs": [
    {
     "data": {
      "text/plain": [
       "DeltaGenerator()"
      ]
     },
     "execution_count": 21,
     "metadata": {},
     "output_type": "execute_result"
    }
   ],
   "source": [
    "#Upload PDF files\n",
    "st.header(\"My first Chatbot\")"
   ]
  },
  {
   "cell_type": "code",
   "execution_count": 22,
   "id": "6407eca1-9301-4ee7-9727-9b8b2e0f0f3f",
   "metadata": {},
   "outputs": [],
   "source": [
    "from PyPDF2 import PdfReader\n",
    "from langchain.text_splitter import RecursiveCharacterTextSplitter\n",
    "from langchain.embeddings.openai import OpenAIEmbeddings\n",
    "from langchain.vectorstores import FAISS\n",
    "from langchain.chains.question_answering import load_qa_chain\n",
    "from langchain_community.chat_models import ChatOpenAI"
   ]
  },
  {
   "cell_type": "code",
   "execution_count": 23,
   "id": "40f128dd-6914-40c3-9c39-a674e0e077a2",
   "metadata": {},
   "outputs": [],
   "source": [
    "with  st.sidebar:\n",
    "    st.title(\"Your Documents\")\n",
    "    file = st.file_uploader(\" Upload a PDf file and start asking questions\", type=\"pdf\")\n"
   ]
  },
  {
   "cell_type": "code",
   "execution_count": 25,
   "id": "796339a5-bf69-418d-8869-02e1a4de61ab",
   "metadata": {},
   "outputs": [],
   "source": [
    "#Extract the text\n",
    "if file is not None:\n",
    "    pdf_reader = PdfReader(file)\n",
    "    text = \"\"\n",
    "    for page in pdf_reader.pages:\n",
    "        text += page.extract_text()\n",
    "        #st.write(text)\n",
    "#Break it into chunks\n",
    "    text_splitter = RecursiveCharacterTextSplitter(\n",
    "        separators=\"\\n\",\n",
    "        chunk_size=1000,\n",
    "        chunk_overlap=150,\n",
    "        length_function=len\n",
    "    )\n",
    "    chunks = text_splitter.split_text(text)\n",
    "    #st.write(chunks)\n",
    "    # generating embedding\n",
    "    embeddings = OpenAIEmbeddings(openai_api_key=OPENAI_API_KEY)\n",
    "    # creating vector store - FAISS\n",
    "    vector_store = FAISS.from_texts(chunks, embeddings)\n",
    "    # get user question\n",
    "    user_question = st.text_input(\"Type Your question here\")\n",
    "    # do similarity search\n",
    "    if user_question:\n",
    "        match = vector_store.similarity_search(user_question)\n",
    "        #st.write(match)\n",
    "\n",
    "        #define the LLM\n",
    "        llm = ChatOpenAI(\n",
    "            openai_api_key = OPENAI_API_KEY,\n",
    "            temperature = 0,\n",
    "            max_tokens = 1000,\n",
    "            model_name = \"gpt-3.5-turbo\"\n",
    "        )\n",
    "        #output results\n",
    "        chain = load_qa_chain(llm, chain_type=\"stuff\")\n",
    "        response = chain.run(input_documents = match, question = user_question)\n",
    "        st.write(response)"
   ]
  },
  {
   "cell_type": "code",
   "execution_count": null,
   "id": "124705ec-f98f-4163-8daa-0cb7f4764aac",
   "metadata": {},
   "outputs": [],
   "source": []
  },
  {
   "cell_type": "code",
   "execution_count": null,
   "id": "87f7de7c-592e-4f62-a80a-6bf5b116a7bc",
   "metadata": {},
   "outputs": [],
   "source": []
  }
 ],
 "metadata": {
  "kernelspec": {
   "display_name": "Python 3 (ipykernel)",
   "language": "python",
   "name": "python3"
  },
  "language_info": {
   "codemirror_mode": {
    "name": "ipython",
    "version": 3
   },
   "file_extension": ".py",
   "mimetype": "text/x-python",
   "name": "python",
   "nbconvert_exporter": "python",
   "pygments_lexer": "ipython3",
   "version": "3.12.2"
  }
 },
 "nbformat": 4,
 "nbformat_minor": 5
}
